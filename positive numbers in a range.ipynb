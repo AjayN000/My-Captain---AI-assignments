{
 "cells": [
  {
   "cell_type": "code",
   "execution_count": 4,
   "id": "c40d4218",
   "metadata": {},
   "outputs": [
    {
     "name": "stdout",
     "output_type": "stream",
     "text": [
      "12  5  64  12 14 3 "
     ]
    }
   ],
   "source": [
    "list1 = [12,-7,5,64,-14]\n",
    "for num in list1:\n",
    "    if num >= 0:\n",
    "        print (num,end = \"  \")\n",
    "    \n",
    "\n",
    "list2 = [12,14,-95,3]\n",
    "\n",
    "for num in list2:\n",
    "    if num >= 0 :\n",
    "        print (num,end = \" \")"
   ]
  },
  {
   "cell_type": "code",
   "execution_count": null,
   "id": "ea83a544",
   "metadata": {},
   "outputs": [],
   "source": []
  },
  {
   "cell_type": "code",
   "execution_count": null,
   "id": "2cf19fc1",
   "metadata": {},
   "outputs": [],
   "source": []
  }
 ],
 "metadata": {
  "kernelspec": {
   "display_name": "Python 3 (ipykernel)",
   "language": "python",
   "name": "python3"
  },
  "language_info": {
   "codemirror_mode": {
    "name": "ipython",
    "version": 3
   },
   "file_extension": ".py",
   "mimetype": "text/x-python",
   "name": "python",
   "nbconvert_exporter": "python",
   "pygments_lexer": "ipython3",
   "version": "3.9.7"
  }
 },
 "nbformat": 4,
 "nbformat_minor": 5
}
